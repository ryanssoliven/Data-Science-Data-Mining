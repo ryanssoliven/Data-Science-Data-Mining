{
 "cells": [
  {
   "cell_type": "markdown",
   "id": "1de8e6d8-dfb6-433d-a436-72f219bd21b7",
   "metadata": {},
   "source": [
    "Use Neural network from Python sklearn library for implementation of AND function"
   ]
  },
  {
   "cell_type": "code",
   "execution_count": 1,
   "id": "e8e1f92f-04c1-4635-ad0a-4798afb7deb3",
   "metadata": {},
   "outputs": [
    {
     "name": "stdout",
     "output_type": "stream",
     "text": [
      "The accuracy of the classifier is 1.0\n",
      "Predicted AND for t1 = [0,0]:  0\n",
      "Predicted AND for t2 = [0,1]:  0\n",
      "Predicted AND for t3 = [1,0]:  0\n",
      "Predicted AND for t4 = [1,1]:  1\n"
     ]
    }
   ],
   "source": [
    "import numpy as np\n",
    "from sklearn.linear_model import Perceptron\n",
    "from sklearn.metrics import accuracy_score\n",
    "\n",
    "# AND Gate Values\n",
    "# x = AB input values\n",
    "# y = Output values\n",
    "x_train = [[1, 1], [1, 0], [0, 1], [0, 0]]\n",
    "y_train = [1, 0, 0, 0]\n",
    "x_test = x_train\n",
    "y_test = y_train\n",
    "\n",
    "#Perceptron Classifier\n",
    "clf = Perceptron(max_iter=500)\n",
    "clf.fit(x_train, y_train)\n",
    "pred = clf.predict(x_test)\n",
    "\n",
    "# Print Accuracy\n",
    "print('The accuracy of the classifier is', accuracy_score(y_test, pred))\n",
    "t1 = np.array([[0,0]])\n",
    "t2 = np.array([[0,1]])\n",
    "t3 = np.array([[1,0]])\n",
    "t4 = np.array([[1,1]])\n",
    "print(\"Predicted AND for t1 = [0,0]: \", int(clf.predict(t1)))\n",
    "print(\"Predicted AND for t2 = [0,1]: \", int(clf.predict(t2)))\n",
    "print(\"Predicted AND for t3 = [1,0]: \", int(clf.predict(t3)))\n",
    "print(\"Predicted AND for t4 = [1,1]: \", int(clf.predict(t4)))"
   ]
  },
  {
   "cell_type": "markdown",
   "id": "0c0ff289-a359-4b74-896d-3713c23712a7",
   "metadata": {},
   "source": [
    "Use Neural network from Python sklearn library for implementation of OR function"
   ]
  },
  {
   "cell_type": "code",
   "execution_count": 2,
   "id": "3b446fee-fcf5-4e00-aef1-ff8c7632d107",
   "metadata": {},
   "outputs": [
    {
     "name": "stdout",
     "output_type": "stream",
     "text": [
      "The accuracy of the classifier is 1.0\n",
      "Predicted OR for t1 = [0,0]:  0\n",
      "Predicted OR for t2 = [0,1]:  1\n",
      "Predicted OR for t3 = [1,0]:  1\n",
      "Predicted OR for t4 = [1,1]:  1\n"
     ]
    }
   ],
   "source": [
    "import numpy as np\n",
    "from sklearn.linear_model import Perceptron\n",
    "from sklearn.metrics import accuracy_score\n",
    "\n",
    "# OR GATE Values\n",
    "# x = AB input values\n",
    "# y = Output values\n",
    "x_train = [[1, 1], [1, 0], [0, 1], [0, 0]]\n",
    "y_train = [1, 1, 1, 0]\n",
    "x_test = x_train\n",
    "y_test = y_train\n",
    "\n",
    "#Perceptron Classifier\n",
    "clf = Perceptron(max_iter=500)\n",
    "clf.fit(x_train, y_train)\n",
    "pred = clf.predict(x_test)\n",
    "\n",
    "# Print Accuracy\n",
    "print('The accuracy of the classifier is', accuracy_score(y_test, pred))\n",
    "t1 = np.array([[0,0]])\n",
    "t2 = np.array([[0,1]])\n",
    "t3 = np.array([[1,0]])\n",
    "t4 = np.array([[1,1]])\n",
    "print(\"Predicted OR for t1 = [0,0]: \", int(clf.predict(t1)))\n",
    "print(\"Predicted OR for t2 = [0,1]: \", int(clf.predict(t2)))\n",
    "print(\"Predicted OR for t3 = [1,0]: \", int(clf.predict(t3)))\n",
    "print(\"Predicted OR for t4 = [1,1]: \", int(clf.predict(t4)))"
   ]
  },
  {
   "cell_type": "code",
   "execution_count": null,
   "id": "237d97d1-35f9-4d52-955b-89f8fa2d3733",
   "metadata": {},
   "outputs": [],
   "source": []
  }
 ],
 "metadata": {
  "kernelspec": {
   "display_name": "Python 3 (ipykernel)",
   "language": "python",
   "name": "python3"
  },
  "language_info": {
   "codemirror_mode": {
    "name": "ipython",
    "version": 3
   },
   "file_extension": ".py",
   "mimetype": "text/x-python",
   "name": "python",
   "nbconvert_exporter": "python",
   "pygments_lexer": "ipython3",
   "version": "3.9.7"
  }
 },
 "nbformat": 4,
 "nbformat_minor": 5
}
