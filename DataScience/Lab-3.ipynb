{
 "cells": [
  {
   "cell_type": "markdown",
   "id": "weird-recovery",
   "metadata": {},
   "source": [
    "# Assignment-2: Statistics and Probability Distribution\n",
    "\n",
    "Make a copy of `Assignment-2-Statistics and Probability Distributions.ipynb` python notebook and rename it to `Assignment-2-<YOUR_NAME>`. Read the exercises provided in the given python notebook. Write and execute your solution in the respective code shell. Submit your python notebook after completing all the exercises.\n",
    "\n",
    "Total Marks: **8**\n",
    "\n",
    "### HINT\n",
    "- Use `numpy` python library to find mean, median and standard deviation for the given sequence of numbers\n",
    "- Use `matplotlib` python library to plot the histogram \n",
    "\n",
    "### Excercise-1 ( 1 Mark)\n",
    "John tracked his lunch bills for the past 5 days. He paid `$15.10, $12.05, $20.05, $17.75 and $16.25`. What was the average amount John paid per meal?  Print the result with 2 decimal places.      "
   ]
  },
  {
   "cell_type": "code",
   "execution_count": 1,
   "id": "fuzzy-shoot",
   "metadata": {},
   "outputs": [
    {
     "name": "stdout",
     "output_type": "stream",
     "text": [
      "The average amount that John paid per meal is: $16.24\n"
     ]
    }
   ],
   "source": [
    "import numpy as np \n",
    "\n",
    "# Calculation of mean\n",
    "lunch_bills = np.array([15.10, 12.05, 20.05, 17.75, 16.25])\n",
    "mean = np.round(np.mean(lunch_bills), 2)\n",
    "print(\"The average amount that John paid per meal is: $\" + str(mean))"
   ]
  },
  {
   "cell_type": "markdown",
   "id": "floating-regard",
   "metadata": {},
   "source": [
    "### Excercise-2 ( 1 Mark)\n",
    "\n",
    "Mark received the following scores in his `Graphic Design` tests. His final grade is based on the mean of those scores. What will be John's final grade in that course? Print the result with 0 decimal places.\n",
    "\n",
    "77, 84, 89, 78, 92\n"
   ]
  },
  {
   "cell_type": "code",
   "execution_count": 2,
   "id": "apparent-immune",
   "metadata": {},
   "outputs": [
    {
     "name": "stdout",
     "output_type": "stream",
     "text": [
      "Mark's final grade in the course is: 84\n"
     ]
    }
   ],
   "source": [
    "import numpy as np \n",
    "\n",
    "# Calculation of median\n",
    "scores = np.array([77, 84, 89, 78, 92])\n",
    "mean = np.mean(scores)\n",
    "print(\"Mark's final grade in the course is: \" + str(int(mean)))"
   ]
  },
  {
   "cell_type": "markdown",
   "id": "waiting-america",
   "metadata": {},
   "source": [
    "### Excercise-3 ( 1 Mark)\n",
    "Find the median and standard deviation for the set of numbers given in Excercise 1 and 2"
   ]
  },
  {
   "cell_type": "code",
   "execution_count": 3,
   "id": "pending-employer",
   "metadata": {},
   "outputs": [
    {
     "name": "stdout",
     "output_type": "stream",
     "text": [
      "Median in Exercise 1: 16.25\n",
      "Median in Exercise 2: 84.0\n",
      "Standard Deviation in Exercise 1: 2.6702808841018952\n",
      "Standard Deviation in Exercise 2: 5.89915248150105\n"
     ]
    }
   ],
   "source": [
    "import numpy as np \n",
    "\n",
    "lunch_bills = np.array([15.10, 12.05, 20.05, 17.75, 16.25])\n",
    "scores = np.array([77, 84, 89, 78, 92])\n",
    "\n",
    "# Calculation of median\n",
    "median_lunch_bills = np.median(lunch_bills)\n",
    "median_scores = np.median(scores)\n",
    "print(\"Median in Exercise 1: \" + str(median_lunch_bills))\n",
    "print(\"Median in Exercise 2: \" + str(median_scores))\n",
    "\n",
    "# Calculation of standard deviation\n",
    "std_lunch_bills = np.std(lunch_bills)\n",
    "std_scores = np.std(scores)\n",
    "print(\"Standard Deviation in Exercise 1: \" + str(std_lunch_bills))\n",
    "print(\"Standard Deviation in Exercise 2: \" + str(std_scores))"
   ]
  },
  {
   "cell_type": "markdown",
   "id": "suburban-gossip",
   "metadata": {
    "tags": []
   },
   "source": [
    "### Excercise-4 ( 3 Marks)\n",
    "#### 4.1) Plot a histogram for the given below age of population with respect to bin.\n",
    "\n",
    "| Population Age | 22,55,62,45,18,21,22,16,34,42,42,4,2,102,42,95,85,55,110,14,50,120,70,65,55,111,115,80,75,65,54,44,43,42,48  |\n",
    "| ---------------|--------------------------------------------------------------------------------------------------------------|\n",
    "| Bin            | 0-10 10-20 30-40 40-50 50-60 60-70 70-80 80-90 90-100 100-110                                                |\n",
    "\n",
    "#### 4.2) Change the bin interval to 50 and replot the histogram\n",
    "#### 4.3) Which age group has more number of people?"
   ]
  },
  {
   "cell_type": "code",
   "execution_count": 4,
   "id": "demonstrated-expert",
   "metadata": {},
   "outputs": [
    {
     "data": {
      "image/png": "[encoded data removed]",
      "text/plain": [
       "<Figure size 432x288 with 1 Axes>"
      ]
     },
     "metadata": {
      "needs_background": "light"
     },
     "output_type": "display_data"
    },
    {
     "data": {
      "image/png": "[encoded data removed]",
      "text/plain": [
       "<Figure size 432x288 with 1 Axes>"
      ]
     },
     "metadata": {
      "needs_background": "light"
     },
     "output_type": "display_data"
    },
    {
     "data": {
      "text/plain": [
       "'\\nFrom the first histogram we see that the age group with the most number of people is: 40-50.\\nFrom the second histogram we see that the age group with the most number of people is: 0-50.\\n'"
      ]
     },
     "execution_count": 4,
     "metadata": {},
     "output_type": "execute_result"
    }
   ],
   "source": [
    "from matplotlib import pyplot as plt \n",
    "\n",
    "population_ages = [22,55,62,45,18,21,22,16,34,42,42,4,2,102,42,95,85,55,110,14,50,120,70,65,55,111,115,80,75,65,54,44,43,42,48]\n",
    "bins_list = [0,11,21,31,41,51,61,71,81,91,101,111]\n",
    "#[0,11) including 0, excluding 11\n",
    "\n",
    "# 4.1)\n",
    "plt.hist(population_ages, bins_list, rwidth=0.7)\n",
    "plt.title(\"Age of Population\")\n",
    "plt.xlabel(\"Population Age\")\n",
    "plt.ylabel(\"Frequency\")\n",
    "plt.show()\n",
    "\n",
    "# 4.2)\n",
    "bins_list = [0,51,101,121]\n",
    "#[0,51) including 0, excluding 51\n",
    "plt.hist(population_ages, bins=bins_list, rwidth=0.7)\n",
    "plt.title(\"Age of Population\")\n",
    "plt.xlabel(\"Population Age\")\n",
    "plt.ylabel(\"Frequency\")\n",
    "plt.show()\n",
    "\n",
    "# 4.3)\n",
    "\"\"\"\n",
    "From the first histogram we see that the age group with the most number of people is: 40-50.\n",
    "From the second histogram we see that the age group with the most number of people is: 0-50.\n",
    "\"\"\"\n"
   ]
  },
  {
   "cell_type": "markdown",
   "id": "hired-trout",
   "metadata": {
    "tags": []
   },
   "source": [
    "### Excercise-5 ( 1 Mark)\n",
    "Plot a cumulative distributive function (CDF) for the data given in excercise-4.1"
   ]
  },
  {
   "cell_type": "code",
   "execution_count": 5,
   "id": "funky-compiler",
   "metadata": {},
   "outputs": [
    {
     "data": {
      "image/png": "[encoded data removed]",
      "text/plain": [
       "<Figure size 432x288 with 1 Axes>"
      ]
     },
     "metadata": {
      "needs_background": "light"
     },
     "output_type": "display_data"
    }
   ],
   "source": [
    "from matplotlib import pyplot as plt \n",
    "\n",
    "population_ages = [22,55,62,45,18,21,22,16,34,42,42,4,2,102,42,95,85,55,110,14,50,120,70,65,55,111,115,80,75,65,54,44,43,42,48]\n",
    "plt.hist(population_ages,cumulative=True)\n",
    "plt.title(\"Histogram of Population Age\")\n",
    "plt.xlabel(\"Population Age\")\n",
    "plt.ylabel(\"CDF F(X)=P(X<=x)\")\n",
    "plt.show()"
   ]
  },
  {
   "cell_type": "markdown",
   "id": "south-oxygen",
   "metadata": {},
   "source": [
    "### Excercise-6 ( 1 Mark)\n",
    "Using `linespace` method from `numpy` library create *200* sample data between the interval *1 and 50*. Plot the **normal distribution** using `matplotlib` library for the sample data."
   ]
  },
  {
   "cell_type": "code",
   "execution_count": 2,
   "id": "meaningful-madagascar",
   "metadata": {},
   "outputs": [
    {
     "data": {
      "image/png": "[encoded data removed]",
      "text/plain": [
       "<Figure size 432x288 with 1 Axes>"
      ]
     },
     "metadata": {
      "needs_background": "light"
     },
     "output_type": "display_data"
    }
   ],
   "source": [
    "from matplotlib import pyplot as plt \n",
    "from scipy.stats import norm\n",
    "import numpy as np\n",
    "\n",
    "# Generate random numbers\n",
    "x = np.array(np.linspace(1,50,200))\n",
    "mean = np.mean(x)\n",
    "std = np.std(x)\n",
    "\n",
    "# Plot\n",
    "plt.plot(x, norm.cdf(x,loc=mean,scale=std))\n",
    "plt.title(\"Normal Distribution\")\n",
    "plt.show()"
   ]
  },
  {
   "cell_type": "code",
   "execution_count": null,
   "id": "a548766b-b029-496a-83b6-e28fbaacaf6a",
   "metadata": {},
   "outputs": [],
   "source": []
  }
 ],
 "metadata": {
  "interpreter": {
   "hash": "7cee0b4ece5b5d7f6bcade4433f7c38355e7b697e7ce1531ca1ec48bd42d9b2b"
  },
  "kernelspec": {
   "display_name": "Python 3 (ipykernel)",
   "language": "python",
   "name": "python3"
  },
  "language_info": {
   "codemirror_mode": {
    "name": "ipython",
    "version": 3
   },
   "file_extension": ".py",
   "mimetype": "text/x-python",
   "name": "python",
   "nbconvert_exporter": "python",
   "pygments_lexer": "ipython3",
   "version": "3.9.7"
  }
 },
 "nbformat": 4,
 "nbformat_minor": 5
}
